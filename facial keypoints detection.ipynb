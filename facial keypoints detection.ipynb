{
  "nbformat": 4,
  "nbformat_minor": 0,
  "metadata": {
    "kernelspec": {
      "name": "python3",
      "display_name": "Python 3",
      "language": "python"
    },
    "colab": {
      "name": "kernel36d9fadd30.ipynb",
      "provenance": [],
      "collapsed_sections": []
    },
    "accelerator": "GPU"
  },
  "cells": [
    {
      "cell_type": "code",
      "metadata": {
        "_uuid": "8f2839f25d086af736a60e9eeb907d3b93b6e0e5",
        "_cell_guid": "b1076dfc-b9ad-4769-8c92-a6c4dae69d19",
        "trusted": true,
        "id": "vuxhgRxVvQW9",
        "colab_type": "code",
        "colab": {
          "base_uri": "https://localhost:8080/",
          "height": 52
        },
        "outputId": "cf908e51-a469-4431-8b71-49e756aceeca"
      },
      "source": [
        "# !unzip \"training.zip\""
      ],
      "execution_count": 1,
      "outputs": [
        {
          "output_type": "stream",
          "text": [
            "Archive:  training.zip\n",
            "replace training.csv? [y]es, [n]o, [A]ll, [N]one, [r]ename: "
          ],
          "name": "stdout"
        }
      ]
    },
    {
      "cell_type": "code",
      "metadata": {
        "_uuid": "d629ff2d2480ee46fbb7e2d37f6b5fab8052498a",
        "_cell_guid": "79c7e3d0-c299-4dcb-8224-4455121ee9b0",
        "trusted": true,
        "id": "rHbzN0OpvQXM",
        "colab_type": "code",
        "colab": {}
      },
      "source": [
        "import pandas as pd\n",
        "import numpy as np\n",
        "train_data = pd.read_csv('training.csv')\n",
        "                         \n",
        "test_data = pd.read_csv('test.csv')\n",
        "\n",
        "lookid_data = pd.read_csv('IdLookupTable.csv')"
      ],
      "execution_count": 2,
      "outputs": []
    },
    {
      "cell_type": "code",
      "metadata": {
        "trusted": true,
        "id": "odZa40ABvQXY",
        "colab_type": "code",
        "colab": {
          "base_uri": "https://localhost:8080/",
          "height": 278
        },
        "outputId": "b1963a95-9c30-4e08-b78d-3aa6540ed583"
      },
      "source": [
        "train_data.columns,len(train_data.columns)\n"
      ],
      "execution_count": 3,
      "outputs": [
        {
          "output_type": "execute_result",
          "data": {
            "text/plain": [
              "(Index(['left_eye_center_x', 'left_eye_center_y', 'right_eye_center_x',\n",
              "        'right_eye_center_y', 'left_eye_inner_corner_x',\n",
              "        'left_eye_inner_corner_y', 'left_eye_outer_corner_x',\n",
              "        'left_eye_outer_corner_y', 'right_eye_inner_corner_x',\n",
              "        'right_eye_inner_corner_y', 'right_eye_outer_corner_x',\n",
              "        'right_eye_outer_corner_y', 'left_eyebrow_inner_end_x',\n",
              "        'left_eyebrow_inner_end_y', 'left_eyebrow_outer_end_x',\n",
              "        'left_eyebrow_outer_end_y', 'right_eyebrow_inner_end_x',\n",
              "        'right_eyebrow_inner_end_y', 'right_eyebrow_outer_end_x',\n",
              "        'right_eyebrow_outer_end_y', 'nose_tip_x', 'nose_tip_y',\n",
              "        'mouth_left_corner_x', 'mouth_left_corner_y', 'mouth_right_corner_x',\n",
              "        'mouth_right_corner_y', 'mouth_center_top_lip_x',\n",
              "        'mouth_center_top_lip_y', 'mouth_center_bottom_lip_x',\n",
              "        'mouth_center_bottom_lip_y', 'Image'],\n",
              "       dtype='object'), 31)"
            ]
          },
          "metadata": {
            "tags": []
          },
          "execution_count": 3
        }
      ]
    },
    {
      "cell_type": "code",
      "metadata": {
        "trusted": true,
        "id": "HmANEXpRvQXh",
        "colab_type": "code",
        "colab": {
          "base_uri": "https://localhost:8080/",
          "height": 34
        },
        "outputId": "406205c0-e927-4376-9c9e-eb604e81d68d"
      },
      "source": [
        "test_data.columns"
      ],
      "execution_count": 4,
      "outputs": [
        {
          "output_type": "execute_result",
          "data": {
            "text/plain": [
              "Index(['ImageId', 'Image'], dtype='object')"
            ]
          },
          "metadata": {
            "tags": []
          },
          "execution_count": 4
        }
      ]
    },
    {
      "cell_type": "code",
      "metadata": {
        "trusted": true,
        "id": "xG6P7sZjvQXo",
        "colab_type": "code",
        "colab": {
          "base_uri": "https://localhost:8080/",
          "height": 34
        },
        "outputId": "ca9ba620-3ca2-4dbb-cbe0-2ebde72ecb8f"
      },
      "source": [
        "lookid_data.columns"
      ],
      "execution_count": 5,
      "outputs": [
        {
          "output_type": "execute_result",
          "data": {
            "text/plain": [
              "Index(['RowId', 'ImageId', 'FeatureName', 'Location'], dtype='object')"
            ]
          },
          "metadata": {
            "tags": []
          },
          "execution_count": 5
        }
      ]
    },
    {
      "cell_type": "code",
      "metadata": {
        "trusted": true,
        "id": "UF1jquetvQXx",
        "colab_type": "code",
        "colab": {
          "base_uri": "https://localhost:8080/",
          "height": 69
        },
        "outputId": "fbe67605-a4cc-461d-ace1-b681da3363a1"
      },
      "source": [
        "train_data.isnull().any().value_counts()"
      ],
      "execution_count": 6,
      "outputs": [
        {
          "output_type": "execute_result",
          "data": {
            "text/plain": [
              "True     28\n",
              "False     3\n",
              "dtype: int64"
            ]
          },
          "metadata": {
            "tags": []
          },
          "execution_count": 6
        }
      ]
    },
    {
      "cell_type": "code",
      "metadata": {
        "trusted": true,
        "id": "px7KHsHgvQX4",
        "colab_type": "code",
        "colab": {
          "base_uri": "https://localhost:8080/",
          "height": 52
        },
        "outputId": "9618528c-ef6c-4958-b463-9e56c34c6736"
      },
      "source": [
        "train_data.fillna(method = 'ffill',inplace = True)\n",
        "train_data.isnull().any().value_counts()"
      ],
      "execution_count": 7,
      "outputs": [
        {
          "output_type": "execute_result",
          "data": {
            "text/plain": [
              "False    31\n",
              "dtype: int64"
            ]
          },
          "metadata": {
            "tags": []
          },
          "execution_count": 7
        }
      ]
    },
    {
      "cell_type": "code",
      "metadata": {
        "trusted": true,
        "id": "pmHt2ZYTvQX-",
        "colab_type": "code",
        "colab": {
          "base_uri": "https://localhost:8080/",
          "height": 34
        },
        "outputId": "7618bf0c-8b4a-480d-df98-ebc60a2c6022"
      },
      "source": [
        "import random\n",
        "import torch\n",
        "import time\n",
        "import torch.nn as nn\n",
        "from torch.autograd import Variable\n",
        "import torch.optim as optim\n",
        "\n",
        "import torchvision\n",
        "import torchvision.transforms as transforms\n",
        "from torch.utils.data import Dataset, DataLoader\n",
        "from sklearn.metrics import confusion_matrix\n",
        "\n",
        "import matplotlib.pyplot as plt\n",
        "\n",
        "device = torch.device(\"cuda:0\" if torch.cuda.is_available() else \"cpu\")\n",
        "device"
      ],
      "execution_count": 8,
      "outputs": [
        {
          "output_type": "execute_result",
          "data": {
            "text/plain": [
              "device(type='cuda', index=0)"
            ]
          },
          "metadata": {
            "tags": []
          },
          "execution_count": 8
        }
      ]
    },
    {
      "cell_type": "code",
      "metadata": {
        "trusted": true,
        "id": "CnyNFVyKvQYC",
        "colab_type": "code",
        "colab": {}
      },
      "source": [
        "imag = []\n",
        "for i in range(0,7049):\n",
        "    img = train_data['Image'][i].split(' ')\n",
        "    img = ['0' if x == '' else x for x in img]\n",
        "    imag.append(img)\n",
        "\n",
        "image_list = np.array(imag,dtype = 'float')\n",
        "X_train = image_list.reshape(-1,1,96,96)\n",
        "\n"
      ],
      "execution_count": 9,
      "outputs": []
    },
    {
      "cell_type": "code",
      "metadata": {
        "trusted": true,
        "id": "LAqRZ5ehvQYJ",
        "colab_type": "code",
        "colab": {}
      },
      "source": [
        "training = train_data.drop('Image',axis = 1)\n",
        "\n",
        "y_train = []\n",
        "for i in range(0,7049):\n",
        "    y = training.iloc[i,:]\n",
        "\n",
        "    y_train.append(y)\n",
        "y_train = np.array(y_train,dtype = 'float')"
      ],
      "execution_count": 10,
      "outputs": []
    },
    {
      "cell_type": "code",
      "metadata": {
        "trusted": true,
        "id": "vlzsELJrvQYP",
        "colab_type": "code",
        "colab": {}
      },
      "source": [
        "class Dataset(Dataset):\n",
        "    \"\"\"User defined class to build a datset using Pytorch class Dataset.\"\"\"\n",
        "    \n",
        "    def __init__(self, X_train,y_train, transform = None):\n",
        "        self.X_train = X_train\n",
        "        self.y_train = y_train\n",
        "        self.transform = transform\n",
        "        \n",
        "    def __getitem__(self, index):\n",
        "        image = self.X_train[index]\n",
        "        keypoints = self.y_train[index]\n",
        "        \n",
        "        image = torch.from_numpy(np.asarray(image))\n",
        "        keypoints = torch.from_numpy(np.asarray(keypoints))\n",
        "        return image, keypoints\n",
        "\n",
        "    def __len__(self):\n",
        "        return len(self.X_train)"
      ],
      "execution_count": 11,
      "outputs": []
    },
    {
      "cell_type": "code",
      "metadata": {
        "trusted": true,
        "id": "Q6Ql6BECvQYW",
        "colab_type": "code",
        "colab": {}
      },
      "source": [
        "train_set = Dataset(X_train,y_train)\n",
        "train_loader = DataLoader(train_set, batch_size=256)\n"
      ],
      "execution_count": 12,
      "outputs": []
    },
    {
      "cell_type": "code",
      "metadata": {
        "trusted": true,
        "id": "40av5pBfvQYc",
        "colab_type": "code",
        "colab": {
          "base_uri": "https://localhost:8080/",
          "height": 34
        },
        "outputId": "40d6efed-08cb-4731-a427-444ba9f40d30"
      },
      "source": [
        "a = next(iter(train_loader))\n",
        "a[0].size(),a[1].size()"
      ],
      "execution_count": 13,
      "outputs": [
        {
          "output_type": "execute_result",
          "data": {
            "text/plain": [
              "(torch.Size([256, 1, 96, 96]), torch.Size([256, 30]))"
            ]
          },
          "metadata": {
            "tags": []
          },
          "execution_count": 13
        }
      ]
    },
    {
      "cell_type": "code",
      "metadata": {
        "trusted": true,
        "id": "i43RM52NvQYj",
        "colab_type": "code",
        "colab": {}
      },
      "source": [
        "img = a[0][0]\n",
        "points = a[1][0]"
      ],
      "execution_count": 75,
      "outputs": []
    },
    {
      "cell_type": "code",
      "metadata": {
        "trusted": true,
        "id": "wwPDY8awvQYo",
        "colab_type": "code",
        "colab": {}
      },
      "source": [
        "img = img.numpy().reshape(96,96)\n",
        "\n",
        "points = points.numpy()"
      ],
      "execution_count": 76,
      "outputs": []
    },
    {
      "cell_type": "code",
      "metadata": {
        "trusted": true,
        "id": "L2FwToWWvQYu",
        "colab_type": "code",
        "colab": {
          "base_uri": "https://localhost:8080/",
          "height": 268
        },
        "outputId": "1a65ae88-0744-48f6-c2c8-27d79cb70194"
      },
      "source": [
        "def show_landmarks(image, landmarks):\n",
        "    \"\"\"Show image with landmarks\"\"\"\n",
        "    plt.imshow(image,cmap='gray')\n",
        "    for i in range(29):\n",
        "        plt.scatter(landmarks[i], landmarks[i+1], s=10, marker='.', c='r')\n",
        "        i=i+1\n",
        "    plt.pause(0.001)  # pause a bit so that plots are updated\n",
        "\n",
        "plt.figure()\n",
        "show_landmarks(img,\n",
        "               points)\n",
        "plt.show()\n"
      ],
      "execution_count": 77,
      "outputs": [
        {
          "output_type": "display_data",
          "data": {
            "image/png": "[encoded data removed]",
            "text/plain": [
              "<Figure size 432x288 with 1 Axes>"
            ]
          },
          "metadata": {
            "tags": [],
            "needs_background": "light"
          }
        }
      ]
    },
    {
      "cell_type": "code",
      "metadata": {
        "trusted": true,
        "id": "rD6eI7wbvQYz",
        "colab_type": "code",
        "colab": {}
      },
      "source": [
        "class FaceModel(nn.Module):\n",
        "    \n",
        "    def __init__(self):\n",
        "        super(FaceModel, self).__init__()\n",
        "        \n",
        "        self.layer1 = nn.Sequential(\n",
        "            nn.Conv2d(1, 32, kernel_size=3, stride=1, padding=1),\n",
        "            nn.LeakyReLU(0.1),\n",
        "            nn.BatchNorm2d(32))\n",
        "        \n",
        "        self.layer2 = nn.Sequential(\n",
        "            nn.Conv2d(32, 32, kernel_size=3, stride=1, padding=1),\n",
        "            nn.LeakyReLU(0.1),\n",
        "            nn.BatchNorm2d(32),\n",
        "            nn.MaxPool2d(2, 2))\n",
        "        \n",
        "        self.layer3 = nn.Sequential(\n",
        "            nn.Conv2d(32, 64, kernel_size=3, stride=1, padding=1),\n",
        "            nn.LeakyReLU(0.1),\n",
        "            nn.BatchNorm2d(64))\n",
        "        \n",
        "        self.layer4 = nn.Sequential(\n",
        "            nn.Conv2d(64, 64, kernel_size=3, stride=1, padding=1),\n",
        "            nn.LeakyReLU(0.1),\n",
        "            nn.BatchNorm2d(64),\n",
        "            nn.MaxPool2d(2, 2))\n",
        "        \n",
        "        self.layer5 = nn.Sequential(\n",
        "            nn.Conv2d(64,96, kernel_size=3, stride=1, padding=1),\n",
        "            nn.LeakyReLU(0.1),\n",
        "            nn.BatchNorm2d(96))\n",
        "        \n",
        "        self.layer6 = nn.Sequential(\n",
        "            nn.Conv2d(96, 96, kernel_size=3, stride=1, padding=1),\n",
        "            nn.LeakyReLU(0.1),\n",
        "            nn.BatchNorm2d(96),\n",
        "            nn.MaxPool2d(2, 2))\n",
        "        \n",
        "        self.layer7 = nn.Sequential(\n",
        "            nn.Conv2d(96,128, kernel_size=3, stride=1, padding=1),\n",
        "            nn.LeakyReLU(0.1),\n",
        "            nn.BatchNorm2d(128))\n",
        "        \n",
        "        self.layer8 = nn.Sequential(\n",
        "            nn.Conv2d(128, 128, kernel_size=3, stride=1, padding=1),\n",
        "            nn.LeakyReLU(0.1),\n",
        "            nn.BatchNorm2d(128),\n",
        "            nn.MaxPool2d(2, 2))\n",
        "        \n",
        "        self.layer9 = nn.Sequential(\n",
        "            nn.Conv2d(128,256, kernel_size=3, stride=1, padding=1),\n",
        "            nn.LeakyReLU(0.1),\n",
        "            nn.BatchNorm2d(256))\n",
        "        \n",
        "        self.layer10 = nn.Sequential(\n",
        "            nn.Conv2d(256,256, kernel_size=3, stride=1, padding=1),\n",
        "            nn.LeakyReLU(0.1),\n",
        "            nn.BatchNorm2d(256),\n",
        "            nn.MaxPool2d(2, 2))\n",
        "        \n",
        "        self.layer11 = nn.Sequential(\n",
        "            nn.Conv2d(256,512, kernel_size=3, stride=1, padding=1),\n",
        "            nn.LeakyReLU(0.1),\n",
        "            nn.BatchNorm2d(512))\n",
        "        \n",
        "\n",
        "        self.fc = torch.nn.Sequential(torch.nn.Linear(4608,512),\n",
        "                                          torch.nn.ReLU(inplace=True),\n",
        "                                          nn.Dropout(p=0.1),\n",
        "                                          torch.nn.Linear(512, 30))\n",
        "        \n",
        "    \n",
        "    def forward(self, x):\n",
        "        x = self.layer1(x)\n",
        "       \n",
        "        x = self.layer2(x)\n",
        "       \n",
        "        x = self.layer3(x)\n",
        "        \n",
        "        \n",
        "        x = self.layer4(x)\n",
        "        \n",
        "        x = self.layer5(x)\n",
        "        \n",
        "        x = self.layer6(x)\n",
        "       \n",
        "        x = self.layer7(x)\n",
        "       \n",
        "        \n",
        "        x = self.layer8(x)\n",
        "        \n",
        "        x = self.layer9(x)\n",
        "      \n",
        "        x = self.layer10(x)\n",
        "       \n",
        "        x = self.layer11(x)\n",
        "  \n",
        "       \n",
        "        x = x.view(x.size(0), -1)\n",
        "        \n",
        "        x = self.fc(x)\n",
        "\n",
        "        return x"
      ],
      "execution_count": 17,
      "outputs": []
    },
    {
      "cell_type": "code",
      "metadata": {
        "trusted": true,
        "id": "9V_1JiGhvQY3",
        "colab_type": "code",
        "colab": {
          "base_uri": "https://localhost:8080/",
          "height": 1000
        },
        "outputId": "5da8062e-693e-43c5-909d-c4ba512b32b7"
      },
      "source": [
        "model = FaceModel().to(device,dtype=torch.double)\n",
        "model"
      ],
      "execution_count": 18,
      "outputs": [
        {
          "output_type": "execute_result",
          "data": {
            "text/plain": [
              "FaceModel(\n",
              "  (layer1): Sequential(\n",
              "    (0): Conv2d(1, 32, kernel_size=(3, 3), stride=(1, 1), padding=(1, 1))\n",
              "    (1): LeakyReLU(negative_slope=0.1)\n",
              "    (2): BatchNorm2d(32, eps=1e-05, momentum=0.1, affine=True, track_running_stats=True)\n",
              "  )\n",
              "  (layer2): Sequential(\n",
              "    (0): Conv2d(32, 32, kernel_size=(3, 3), stride=(1, 1), padding=(1, 1))\n",
              "    (1): LeakyReLU(negative_slope=0.1)\n",
              "    (2): BatchNorm2d(32, eps=1e-05, momentum=0.1, affine=True, track_running_stats=True)\n",
              "    (3): MaxPool2d(kernel_size=2, stride=2, padding=0, dilation=1, ceil_mode=False)\n",
              "  )\n",
              "  (layer3): Sequential(\n",
              "    (0): Conv2d(32, 64, kernel_size=(3, 3), stride=(1, 1), padding=(1, 1))\n",
              "    (1): LeakyReLU(negative_slope=0.1)\n",
              "    (2): BatchNorm2d(64, eps=1e-05, momentum=0.1, affine=True, track_running_stats=True)\n",
              "  )\n",
              "  (layer4): Sequential(\n",
              "    (0): Conv2d(64, 64, kernel_size=(3, 3), stride=(1, 1), padding=(1, 1))\n",
              "    (1): LeakyReLU(negative_slope=0.1)\n",
              "    (2): BatchNorm2d(64, eps=1e-05, momentum=0.1, affine=True, track_running_stats=True)\n",
              "    (3): MaxPool2d(kernel_size=2, stride=2, padding=0, dilation=1, ceil_mode=False)\n",
              "  )\n",
              "  (layer5): Sequential(\n",
              "    (0): Conv2d(64, 96, kernel_size=(3, 3), stride=(1, 1), padding=(1, 1))\n",
              "    (1): LeakyReLU(negative_slope=0.1)\n",
              "    (2): BatchNorm2d(96, eps=1e-05, momentum=0.1, affine=True, track_running_stats=True)\n",
              "  )\n",
              "  (layer6): Sequential(\n",
              "    (0): Conv2d(96, 96, kernel_size=(3, 3), stride=(1, 1), padding=(1, 1))\n",
              "    (1): LeakyReLU(negative_slope=0.1)\n",
              "    (2): BatchNorm2d(96, eps=1e-05, momentum=0.1, affine=True, track_running_stats=True)\n",
              "    (3): MaxPool2d(kernel_size=2, stride=2, padding=0, dilation=1, ceil_mode=False)\n",
              "  )\n",
              "  (layer7): Sequential(\n",
              "    (0): Conv2d(96, 128, kernel_size=(3, 3), stride=(1, 1), padding=(1, 1))\n",
              "    (1): LeakyReLU(negative_slope=0.1)\n",
              "    (2): BatchNorm2d(128, eps=1e-05, momentum=0.1, affine=True, track_running_stats=True)\n",
              "  )\n",
              "  (layer8): Sequential(\n",
              "    (0): Conv2d(128, 128, kernel_size=(3, 3), stride=(1, 1), padding=(1, 1))\n",
              "    (1): LeakyReLU(negative_slope=0.1)\n",
              "    (2): BatchNorm2d(128, eps=1e-05, momentum=0.1, affine=True, track_running_stats=True)\n",
              "    (3): MaxPool2d(kernel_size=2, stride=2, padding=0, dilation=1, ceil_mode=False)\n",
              "  )\n",
              "  (layer9): Sequential(\n",
              "    (0): Conv2d(128, 256, kernel_size=(3, 3), stride=(1, 1), padding=(1, 1))\n",
              "    (1): LeakyReLU(negative_slope=0.1)\n",
              "    (2): BatchNorm2d(256, eps=1e-05, momentum=0.1, affine=True, track_running_stats=True)\n",
              "  )\n",
              "  (layer10): Sequential(\n",
              "    (0): Conv2d(256, 256, kernel_size=(3, 3), stride=(1, 1), padding=(1, 1))\n",
              "    (1): LeakyReLU(negative_slope=0.1)\n",
              "    (2): BatchNorm2d(256, eps=1e-05, momentum=0.1, affine=True, track_running_stats=True)\n",
              "    (3): MaxPool2d(kernel_size=2, stride=2, padding=0, dilation=1, ceil_mode=False)\n",
              "  )\n",
              "  (layer11): Sequential(\n",
              "    (0): Conv2d(256, 512, kernel_size=(3, 3), stride=(1, 1), padding=(1, 1))\n",
              "    (1): LeakyReLU(negative_slope=0.1)\n",
              "    (2): BatchNorm2d(512, eps=1e-05, momentum=0.1, affine=True, track_running_stats=True)\n",
              "  )\n",
              "  (fc): Sequential(\n",
              "    (0): Linear(in_features=4608, out_features=512, bias=True)\n",
              "    (1): ReLU(inplace=True)\n",
              "    (2): Dropout(p=0.1, inplace=False)\n",
              "    (3): Linear(in_features=512, out_features=30, bias=True)\n",
              "  )\n",
              ")"
            ]
          },
          "metadata": {
            "tags": []
          },
          "execution_count": 18
        }
      ]
    },
    {
      "cell_type": "code",
      "metadata": {
        "trusted": true,
        "id": "jNu7ZVl-vQY7",
        "colab_type": "code",
        "colab": {
          "base_uri": "https://localhost:8080/",
          "height": 34
        },
        "outputId": "e12fb8e6-7311-467c-d5ca-9b4ca5c6d098"
      },
      "source": [
        "for idx ,sample in enumerate(train_loader):\n",
        "    print(sample[0][0].shape,sample[1].shape)\n",
        "    model(sample[0].to(device))\n",
        "    break"
      ],
      "execution_count": 19,
      "outputs": [
        {
          "output_type": "stream",
          "text": [
            "torch.Size([1, 96, 96]) torch.Size([256, 30])\n"
          ],
          "name": "stdout"
        }
      ]
    },
    {
      "cell_type": "code",
      "metadata": {
        "trusted": true,
        "id": "H19sv9KPvQZA",
        "colab_type": "code",
        "colab": {}
      },
      "source": [
        "loss_fn = torch.nn.MSELoss()\n",
        "optimizer =  optim.RMSprop(model.parameters(), lr=1e-3)\n",
        "num_epochs = 200"
      ],
      "execution_count": 20,
      "outputs": []
    },
    {
      "cell_type": "code",
      "metadata": {
        "trusted": true,
        "id": "dkMSEap4vQZE",
        "colab_type": "code",
        "colab": {}
      },
      "source": [
        "def train(model, device, train_loader, optimizer,loss_fn, epoch, log_interval):\n",
        "    model.train()\n",
        "    train_loss = 0\n",
        "\n",
        "    for batch_idx, sample in enumerate(train_loader):\n",
        "        data,y = sample[0].to(device),sample[1].to(device)\n",
        "        optimizer.zero_grad()\n",
        "        y_pred = model(data)\n",
        "        l = loss_fn(y_pred,y)\n",
        "        l.backward()\n",
        "        optimizer.step()\n",
        "        train_loss += l.item()\n",
        "\n",
        "        if batch_idx % log_interval == 0:\n",
        "            print('{} Train Epoch: {} [{}/{} ({:.0f}%)]\\tLoss: {:.6f}'.format(\n",
        "                time.ctime(time.time()), epoch, batch_idx * len(data),\n",
        "                len(train_loader.dataset), 100. * batch_idx / len(train_loader), l.item()))\n",
        "    train_loss /= len(train_loader)\n",
        "    print('Train set Average loss:', train_loss)\n",
        "    return train_loss"
      ],
      "execution_count": 21,
      "outputs": []
    },
    {
      "cell_type": "code",
      "metadata": {
        "trusted": true,
        "id": "TcZNG2hQvQZL",
        "colab_type": "code",
        "colab": {
          "base_uri": "https://localhost:8080/",
          "height": 1000
        },
        "outputId": "992a76a7-4bf3-4a1d-8b04-29077dfa1a80"
      },
      "source": [
        "PRINT_INTERVAL = 10\n",
        "for epoch in range(0,100):\n",
        "    train(model, device, train_loader, optimizer,loss_fn, epoch, PRINT_INTERVAL)"
      ],
      "execution_count": 29,
      "outputs": [
        {
          "output_type": "stream",
          "text": [
            "Tue Jul 14 13:42:28 2020 Train Epoch: 0 [0/7049 (0%)]\tLoss: 33.396596\n",
            "Tue Jul 14 13:42:33 2020 Train Epoch: 0 [2560/7049 (36%)]\tLoss: 24.462098\n",
            "Tue Jul 14 13:42:37 2020 Train Epoch: 0 [5120/7049 (71%)]\tLoss: 43.977672\n",
            "Train set Average loss: 35.94512770541027\n",
            "Tue Jul 14 13:42:40 2020 Train Epoch: 1 [0/7049 (0%)]\tLoss: 34.944917\n",
            "Tue Jul 14 13:42:45 2020 Train Epoch: 1 [2560/7049 (36%)]\tLoss: 16.467107\n",
            "Tue Jul 14 13:42:49 2020 Train Epoch: 1 [5120/7049 (71%)]\tLoss: 54.738038\n",
            "Train set Average loss: 36.534374967758545\n",
            "Tue Jul 14 13:42:53 2020 Train Epoch: 2 [0/7049 (0%)]\tLoss: 36.388847\n",
            "Tue Jul 14 13:42:57 2020 Train Epoch: 2 [2560/7049 (36%)]\tLoss: 17.640987\n",
            "Tue Jul 14 13:43:02 2020 Train Epoch: 2 [5120/7049 (71%)]\tLoss: 64.293859\n",
            "Train set Average loss: 38.24665577133451\n",
            "Tue Jul 14 13:43:05 2020 Train Epoch: 3 [0/7049 (0%)]\tLoss: 30.672143\n",
            "Tue Jul 14 13:43:10 2020 Train Epoch: 3 [2560/7049 (36%)]\tLoss: 43.261360\n",
            "Tue Jul 14 13:43:14 2020 Train Epoch: 3 [5120/7049 (71%)]\tLoss: 25.661480\n",
            "Train set Average loss: 41.43870273239348\n",
            "Tue Jul 14 13:43:18 2020 Train Epoch: 4 [0/7049 (0%)]\tLoss: 30.874847\n",
            "Tue Jul 14 13:43:22 2020 Train Epoch: 4 [2560/7049 (36%)]\tLoss: 40.037712\n",
            "Tue Jul 14 13:43:27 2020 Train Epoch: 4 [5120/7049 (71%)]\tLoss: 26.729657\n",
            "Train set Average loss: 33.47262873283272\n",
            "Tue Jul 14 13:43:30 2020 Train Epoch: 5 [0/7049 (0%)]\tLoss: 31.313169\n",
            "Tue Jul 14 13:43:35 2020 Train Epoch: 5 [2560/7049 (36%)]\tLoss: 51.695437\n",
            "Tue Jul 14 13:43:39 2020 Train Epoch: 5 [5120/7049 (71%)]\tLoss: 21.974940\n",
            "Train set Average loss: 40.01582798767178\n",
            "Tue Jul 14 13:43:43 2020 Train Epoch: 6 [0/7049 (0%)]\tLoss: 32.756967\n",
            "Tue Jul 14 13:43:47 2020 Train Epoch: 6 [2560/7049 (36%)]\tLoss: 44.785276\n",
            "Tue Jul 14 13:43:52 2020 Train Epoch: 6 [5120/7049 (71%)]\tLoss: 23.442503\n",
            "Train set Average loss: 36.638424616726454\n",
            "Tue Jul 14 13:43:55 2020 Train Epoch: 7 [0/7049 (0%)]\tLoss: 25.464422\n",
            "Tue Jul 14 13:44:00 2020 Train Epoch: 7 [2560/7049 (36%)]\tLoss: 39.504612\n",
            "Tue Jul 14 13:44:04 2020 Train Epoch: 7 [5120/7049 (71%)]\tLoss: 36.088065\n",
            "Train set Average loss: 43.04503176969398\n",
            "Tue Jul 14 13:44:08 2020 Train Epoch: 8 [0/7049 (0%)]\tLoss: 35.192351\n",
            "Tue Jul 14 13:44:12 2020 Train Epoch: 8 [2560/7049 (36%)]\tLoss: 49.624887\n",
            "Tue Jul 14 13:44:17 2020 Train Epoch: 8 [5120/7049 (71%)]\tLoss: 26.304988\n",
            "Train set Average loss: 43.37610999504924\n",
            "Tue Jul 14 13:44:20 2020 Train Epoch: 9 [0/7049 (0%)]\tLoss: 55.690059\n",
            "Tue Jul 14 13:44:25 2020 Train Epoch: 9 [2560/7049 (36%)]\tLoss: 25.990120\n",
            "Tue Jul 14 13:44:29 2020 Train Epoch: 9 [5120/7049 (71%)]\tLoss: 24.996834\n",
            "Train set Average loss: 45.222894393869474\n",
            "Tue Jul 14 13:44:33 2020 Train Epoch: 10 [0/7049 (0%)]\tLoss: 39.815813\n",
            "Tue Jul 14 13:44:37 2020 Train Epoch: 10 [2560/7049 (36%)]\tLoss: 15.550398\n",
            "Tue Jul 14 13:44:42 2020 Train Epoch: 10 [5120/7049 (71%)]\tLoss: 19.423660\n",
            "Train set Average loss: 44.80015042007383\n",
            "Tue Jul 14 13:44:45 2020 Train Epoch: 11 [0/7049 (0%)]\tLoss: 124.845752\n",
            "Tue Jul 14 13:44:50 2020 Train Epoch: 11 [2560/7049 (36%)]\tLoss: 15.887323\n",
            "Tue Jul 14 13:44:54 2020 Train Epoch: 11 [5120/7049 (71%)]\tLoss: 27.418292\n",
            "Train set Average loss: 33.36830554517353\n",
            "Tue Jul 14 13:44:58 2020 Train Epoch: 12 [0/7049 (0%)]\tLoss: 34.485802\n",
            "Tue Jul 14 13:45:02 2020 Train Epoch: 12 [2560/7049 (36%)]\tLoss: 25.684657\n",
            "Tue Jul 14 13:45:07 2020 Train Epoch: 12 [5120/7049 (71%)]\tLoss: 71.354159\n",
            "Train set Average loss: 47.30726107531525\n",
            "Tue Jul 14 13:45:10 2020 Train Epoch: 13 [0/7049 (0%)]\tLoss: 48.112709\n",
            "Tue Jul 14 13:45:15 2020 Train Epoch: 13 [2560/7049 (36%)]\tLoss: 16.906127\n",
            "Tue Jul 14 13:45:19 2020 Train Epoch: 13 [5120/7049 (71%)]\tLoss: 16.183928\n",
            "Train set Average loss: 29.272013921367716\n",
            "Tue Jul 14 13:45:23 2020 Train Epoch: 14 [0/7049 (0%)]\tLoss: 55.381822\n",
            "Tue Jul 14 13:45:27 2020 Train Epoch: 14 [2560/7049 (36%)]\tLoss: 29.078948\n",
            "Tue Jul 14 13:45:32 2020 Train Epoch: 14 [5120/7049 (71%)]\tLoss: 34.735485\n",
            "Train set Average loss: 43.43651787458356\n",
            "Tue Jul 14 13:45:35 2020 Train Epoch: 15 [0/7049 (0%)]\tLoss: 52.317498\n",
            "Tue Jul 14 13:45:40 2020 Train Epoch: 15 [2560/7049 (36%)]\tLoss: 13.800829\n",
            "Tue Jul 14 13:45:44 2020 Train Epoch: 15 [5120/7049 (71%)]\tLoss: 53.218784\n",
            "Train set Average loss: 33.30826619684562\n",
            "Tue Jul 14 13:45:48 2020 Train Epoch: 16 [0/7049 (0%)]\tLoss: 32.769138\n",
            "Tue Jul 14 13:45:52 2020 Train Epoch: 16 [2560/7049 (36%)]\tLoss: 28.017170\n",
            "Tue Jul 14 13:45:57 2020 Train Epoch: 16 [5120/7049 (71%)]\tLoss: 13.259234\n",
            "Train set Average loss: 36.19516335311958\n",
            "Tue Jul 14 13:46:00 2020 Train Epoch: 17 [0/7049 (0%)]\tLoss: 44.430954\n",
            "Tue Jul 14 13:46:05 2020 Train Epoch: 17 [2560/7049 (36%)]\tLoss: 36.357315\n",
            "Tue Jul 14 13:46:09 2020 Train Epoch: 17 [5120/7049 (71%)]\tLoss: 35.833560\n",
            "Train set Average loss: 40.51717021463507\n",
            "Tue Jul 14 13:46:13 2020 Train Epoch: 18 [0/7049 (0%)]\tLoss: 30.142533\n",
            "Tue Jul 14 13:46:17 2020 Train Epoch: 18 [2560/7049 (36%)]\tLoss: 16.596578\n",
            "Tue Jul 14 13:46:22 2020 Train Epoch: 18 [5120/7049 (71%)]\tLoss: 40.253397\n",
            "Train set Average loss: 33.38828746195556\n",
            "Tue Jul 14 13:46:25 2020 Train Epoch: 19 [0/7049 (0%)]\tLoss: 62.503817\n",
            "Tue Jul 14 13:46:30 2020 Train Epoch: 19 [2560/7049 (36%)]\tLoss: 20.141730\n",
            "Tue Jul 14 13:46:34 2020 Train Epoch: 19 [5120/7049 (71%)]\tLoss: 19.372495\n",
            "Train set Average loss: 35.85516894430554\n",
            "Tue Jul 14 13:46:38 2020 Train Epoch: 20 [0/7049 (0%)]\tLoss: 62.029623\n",
            "Tue Jul 14 13:46:42 2020 Train Epoch: 20 [2560/7049 (36%)]\tLoss: 19.637663\n",
            "Tue Jul 14 13:46:47 2020 Train Epoch: 20 [5120/7049 (71%)]\tLoss: 15.058477\n",
            "Train set Average loss: 28.355238907011262\n",
            "Tue Jul 14 13:46:50 2020 Train Epoch: 21 [0/7049 (0%)]\tLoss: 50.039225\n",
            "Tue Jul 14 13:46:55 2020 Train Epoch: 21 [2560/7049 (36%)]\tLoss: 15.960849\n",
            "Tue Jul 14 13:46:59 2020 Train Epoch: 21 [5120/7049 (71%)]\tLoss: 14.258415\n",
            "Train set Average loss: 31.107238380358897\n",
            "Tue Jul 14 13:47:03 2020 Train Epoch: 22 [0/7049 (0%)]\tLoss: 59.478061\n",
            "Tue Jul 14 13:47:09 2020 Train Epoch: 22 [2560/7049 (36%)]\tLoss: 26.768326\n",
            "Tue Jul 14 13:47:13 2020 Train Epoch: 22 [5120/7049 (71%)]\tLoss: 70.663370\n",
            "Train set Average loss: 48.63470826246139\n",
            "Tue Jul 14 13:47:17 2020 Train Epoch: 23 [0/7049 (0%)]\tLoss: 31.683216\n",
            "Tue Jul 14 13:47:21 2020 Train Epoch: 23 [2560/7049 (36%)]\tLoss: 14.339964\n",
            "Tue Jul 14 13:47:26 2020 Train Epoch: 23 [5120/7049 (71%)]\tLoss: 15.686395\n",
            "Train set Average loss: 22.925325847299558\n",
            "Tue Jul 14 13:47:29 2020 Train Epoch: 24 [0/7049 (0%)]\tLoss: 42.239469\n",
            "Tue Jul 14 13:47:34 2020 Train Epoch: 24 [2560/7049 (36%)]\tLoss: 25.353572\n",
            "Tue Jul 14 13:47:38 2020 Train Epoch: 24 [5120/7049 (71%)]\tLoss: 17.355116\n",
            "Train set Average loss: 28.889626762821962\n",
            "Tue Jul 14 13:47:42 2020 Train Epoch: 25 [0/7049 (0%)]\tLoss: 33.375187\n",
            "Tue Jul 14 13:47:46 2020 Train Epoch: 25 [2560/7049 (36%)]\tLoss: 21.149125\n",
            "Tue Jul 14 13:47:51 2020 Train Epoch: 25 [5120/7049 (71%)]\tLoss: 12.538774\n",
            "Train set Average loss: 27.954129437907493\n",
            "Tue Jul 14 13:47:54 2020 Train Epoch: 26 [0/7049 (0%)]\tLoss: 36.362774\n",
            "Tue Jul 14 13:47:59 2020 Train Epoch: 26 [2560/7049 (36%)]\tLoss: 26.017277\n",
            "Tue Jul 14 13:48:03 2020 Train Epoch: 26 [5120/7049 (71%)]\tLoss: 36.156353\n",
            "Train set Average loss: 34.52057002437877\n",
            "Tue Jul 14 13:48:07 2020 Train Epoch: 27 [0/7049 (0%)]\tLoss: 48.768255\n",
            "Tue Jul 14 13:48:11 2020 Train Epoch: 27 [2560/7049 (36%)]\tLoss: 14.291836\n",
            "Tue Jul 14 13:48:16 2020 Train Epoch: 27 [5120/7049 (71%)]\tLoss: 13.646659\n",
            "Train set Average loss: 22.4451809794877\n",
            "Tue Jul 14 13:48:19 2020 Train Epoch: 28 [0/7049 (0%)]\tLoss: 68.482186\n",
            "Tue Jul 14 13:48:24 2020 Train Epoch: 28 [2560/7049 (36%)]\tLoss: 20.103388\n",
            "Tue Jul 14 13:48:28 2020 Train Epoch: 28 [5120/7049 (71%)]\tLoss: 9.412127\n",
            "Train set Average loss: 31.685386801601148\n",
            "Tue Jul 14 13:48:31 2020 Train Epoch: 29 [0/7049 (0%)]\tLoss: 31.903761\n",
            "Tue Jul 14 13:48:36 2020 Train Epoch: 29 [2560/7049 (36%)]\tLoss: 29.475655\n",
            "Tue Jul 14 13:48:41 2020 Train Epoch: 29 [5120/7049 (71%)]\tLoss: 12.608108\n",
            "Train set Average loss: 30.710437601885445\n",
            "Tue Jul 14 13:48:44 2020 Train Epoch: 30 [0/7049 (0%)]\tLoss: 28.148002\n",
            "Tue Jul 14 13:48:48 2020 Train Epoch: 30 [2560/7049 (36%)]\tLoss: 26.795318\n",
            "Tue Jul 14 13:48:53 2020 Train Epoch: 30 [5120/7049 (71%)]\tLoss: 22.996297\n",
            "Train set Average loss: 27.695874107278314\n",
            "Tue Jul 14 13:48:56 2020 Train Epoch: 31 [0/7049 (0%)]\tLoss: 52.593029\n",
            "Tue Jul 14 13:49:01 2020 Train Epoch: 31 [2560/7049 (36%)]\tLoss: 23.384823\n",
            "Tue Jul 14 13:49:06 2020 Train Epoch: 31 [5120/7049 (71%)]\tLoss: 12.366037\n",
            "Train set Average loss: 25.843511669485615\n",
            "Tue Jul 14 13:49:09 2020 Train Epoch: 32 [0/7049 (0%)]\tLoss: 40.550758\n",
            "Tue Jul 14 13:49:13 2020 Train Epoch: 32 [2560/7049 (36%)]\tLoss: 28.481714\n",
            "Tue Jul 14 13:49:18 2020 Train Epoch: 32 [5120/7049 (71%)]\tLoss: 20.336250\n",
            "Train set Average loss: 27.96667764125357\n",
            "Tue Jul 14 13:49:21 2020 Train Epoch: 33 [0/7049 (0%)]\tLoss: 25.536703\n",
            "Tue Jul 14 13:49:26 2020 Train Epoch: 33 [2560/7049 (36%)]\tLoss: 56.072948\n",
            "Tue Jul 14 13:49:30 2020 Train Epoch: 33 [5120/7049 (71%)]\tLoss: 10.868421\n",
            "Train set Average loss: 23.535509894201393\n",
            "Tue Jul 14 13:49:34 2020 Train Epoch: 34 [0/7049 (0%)]\tLoss: 35.874805\n",
            "Tue Jul 14 13:49:38 2020 Train Epoch: 34 [2560/7049 (36%)]\tLoss: 32.733950\n",
            "Tue Jul 14 13:49:43 2020 Train Epoch: 34 [5120/7049 (71%)]\tLoss: 10.952342\n",
            "Train set Average loss: 32.29053966063097\n",
            "Tue Jul 14 13:49:46 2020 Train Epoch: 35 [0/7049 (0%)]\tLoss: 24.910974\n",
            "Tue Jul 14 13:49:51 2020 Train Epoch: 35 [2560/7049 (36%)]\tLoss: 22.712193\n",
            "Tue Jul 14 13:49:55 2020 Train Epoch: 35 [5120/7049 (71%)]\tLoss: 18.453653\n",
            "Train set Average loss: 22.806747306471753\n",
            "Tue Jul 14 13:49:59 2020 Train Epoch: 36 [0/7049 (0%)]\tLoss: 23.422453\n",
            "Tue Jul 14 13:50:03 2020 Train Epoch: 36 [2560/7049 (36%)]\tLoss: 25.975053\n",
            "Tue Jul 14 13:50:08 2020 Train Epoch: 36 [5120/7049 (71%)]\tLoss: 26.790640\n",
            "Train set Average loss: 25.63629775793837\n",
            "Tue Jul 14 13:50:11 2020 Train Epoch: 37 [0/7049 (0%)]\tLoss: 43.108292\n",
            "Tue Jul 14 13:50:16 2020 Train Epoch: 37 [2560/7049 (36%)]\tLoss: 31.195086\n",
            "Tue Jul 14 13:50:20 2020 Train Epoch: 37 [5120/7049 (71%)]\tLoss: 10.611551\n",
            "Train set Average loss: 27.069276681220494\n",
            "Tue Jul 14 13:50:24 2020 Train Epoch: 38 [0/7049 (0%)]\tLoss: 25.263264\n",
            "Tue Jul 14 13:50:28 2020 Train Epoch: 38 [2560/7049 (36%)]\tLoss: 14.602595\n",
            "Tue Jul 14 13:50:33 2020 Train Epoch: 38 [5120/7049 (71%)]\tLoss: 30.912415\n",
            "Train set Average loss: 23.72685995080621\n",
            "Tue Jul 14 13:50:36 2020 Train Epoch: 39 [0/7049 (0%)]\tLoss: 27.002583\n",
            "Tue Jul 14 13:50:41 2020 Train Epoch: 39 [2560/7049 (36%)]\tLoss: 23.020586\n",
            "Tue Jul 14 13:50:45 2020 Train Epoch: 39 [5120/7049 (71%)]\tLoss: 15.432702\n",
            "Train set Average loss: 23.813038448792135\n",
            "Tue Jul 14 13:50:49 2020 Train Epoch: 40 [0/7049 (0%)]\tLoss: 33.363515\n",
            "Tue Jul 14 13:50:53 2020 Train Epoch: 40 [2560/7049 (36%)]\tLoss: 13.695544\n",
            "Tue Jul 14 13:50:58 2020 Train Epoch: 40 [5120/7049 (71%)]\tLoss: 14.029751\n",
            "Train set Average loss: 26.11777715658888\n",
            "Tue Jul 14 13:51:01 2020 Train Epoch: 41 [0/7049 (0%)]\tLoss: 31.983824\n",
            "Tue Jul 14 13:51:06 2020 Train Epoch: 41 [2560/7049 (36%)]\tLoss: 19.068976\n",
            "Tue Jul 14 13:51:10 2020 Train Epoch: 41 [5120/7049 (71%)]\tLoss: 12.009389\n",
            "Train set Average loss: 20.869292259961888\n",
            "Tue Jul 14 13:51:14 2020 Train Epoch: 42 [0/7049 (0%)]\tLoss: 31.016164\n",
            "Tue Jul 14 13:51:18 2020 Train Epoch: 42 [2560/7049 (36%)]\tLoss: 18.699182\n",
            "Tue Jul 14 13:51:23 2020 Train Epoch: 42 [5120/7049 (71%)]\tLoss: 29.494098\n",
            "Train set Average loss: 27.348103951701482\n",
            "Tue Jul 14 13:51:26 2020 Train Epoch: 43 [0/7049 (0%)]\tLoss: 29.539117\n",
            "Tue Jul 14 13:51:31 2020 Train Epoch: 43 [2560/7049 (36%)]\tLoss: 22.951198\n",
            "Tue Jul 14 13:51:35 2020 Train Epoch: 43 [5120/7049 (71%)]\tLoss: 11.784602\n",
            "Train set Average loss: 25.22480838887885\n",
            "Tue Jul 14 13:51:39 2020 Train Epoch: 44 [0/7049 (0%)]\tLoss: 44.520398\n",
            "Tue Jul 14 13:51:43 2020 Train Epoch: 44 [2560/7049 (36%)]\tLoss: 16.473193\n",
            "Tue Jul 14 13:51:49 2020 Train Epoch: 44 [5120/7049 (71%)]\tLoss: 21.660029\n",
            "Train set Average loss: 27.072732158649984\n",
            "Tue Jul 14 13:51:53 2020 Train Epoch: 45 [0/7049 (0%)]\tLoss: 36.824101\n",
            "Tue Jul 14 13:51:57 2020 Train Epoch: 45 [2560/7049 (36%)]\tLoss: 14.171706\n",
            "Tue Jul 14 13:52:02 2020 Train Epoch: 45 [5120/7049 (71%)]\tLoss: 21.309305\n",
            "Train set Average loss: 21.615790633358213\n",
            "Tue Jul 14 13:52:05 2020 Train Epoch: 46 [0/7049 (0%)]\tLoss: 40.715916\n",
            "Tue Jul 14 13:52:10 2020 Train Epoch: 46 [2560/7049 (36%)]\tLoss: 20.721264\n",
            "Tue Jul 14 13:52:14 2020 Train Epoch: 46 [5120/7049 (71%)]\tLoss: 8.606907\n",
            "Train set Average loss: 23.556992841768174\n",
            "Tue Jul 14 13:52:18 2020 Train Epoch: 47 [0/7049 (0%)]\tLoss: 28.261311\n",
            "Tue Jul 14 13:52:22 2020 Train Epoch: 47 [2560/7049 (36%)]\tLoss: 19.428286\n",
            "Tue Jul 14 13:52:27 2020 Train Epoch: 47 [5120/7049 (71%)]\tLoss: 13.996061\n",
            "Train set Average loss: 20.632381380763725\n",
            "Tue Jul 14 13:52:30 2020 Train Epoch: 48 [0/7049 (0%)]\tLoss: 42.637358\n",
            "Tue Jul 14 13:52:35 2020 Train Epoch: 48 [2560/7049 (36%)]\tLoss: 26.773804\n",
            "Tue Jul 14 13:52:39 2020 Train Epoch: 48 [5120/7049 (71%)]\tLoss: 11.509369\n",
            "Train set Average loss: 29.95813133522825\n",
            "Tue Jul 14 13:52:43 2020 Train Epoch: 49 [0/7049 (0%)]\tLoss: 27.361218\n",
            "Tue Jul 14 13:52:47 2020 Train Epoch: 49 [2560/7049 (36%)]\tLoss: 13.387594\n",
            "Tue Jul 14 13:52:52 2020 Train Epoch: 49 [5120/7049 (71%)]\tLoss: 23.627470\n",
            "Train set Average loss: 21.15971542325546\n",
            "Tue Jul 14 13:52:55 2020 Train Epoch: 50 [0/7049 (0%)]\tLoss: 40.215321\n",
            "Tue Jul 14 13:53:00 2020 Train Epoch: 50 [2560/7049 (36%)]\tLoss: 16.906660\n",
            "Tue Jul 14 13:53:04 2020 Train Epoch: 50 [5120/7049 (71%)]\tLoss: 9.688936\n",
            "Train set Average loss: 20.361764127061996\n",
            "Tue Jul 14 13:53:08 2020 Train Epoch: 51 [0/7049 (0%)]\tLoss: 29.135379\n",
            "Tue Jul 14 13:53:12 2020 Train Epoch: 51 [2560/7049 (36%)]\tLoss: 15.370912\n",
            "Tue Jul 14 13:53:17 2020 Train Epoch: 51 [5120/7049 (71%)]\tLoss: 37.780270\n",
            "Train set Average loss: 25.353468598608337\n",
            "Tue Jul 14 13:53:20 2020 Train Epoch: 52 [0/7049 (0%)]\tLoss: 29.630997\n",
            "Tue Jul 14 13:53:25 2020 Train Epoch: 52 [2560/7049 (36%)]\tLoss: 43.082957\n",
            "Tue Jul 14 13:53:29 2020 Train Epoch: 52 [5120/7049 (71%)]\tLoss: 9.981861\n",
            "Train set Average loss: 24.555333845603464\n",
            "Tue Jul 14 13:53:33 2020 Train Epoch: 53 [0/7049 (0%)]\tLoss: 23.836145\n",
            "Tue Jul 14 13:53:37 2020 Train Epoch: 53 [2560/7049 (36%)]\tLoss: 10.812357\n",
            "Tue Jul 14 13:53:42 2020 Train Epoch: 53 [5120/7049 (71%)]\tLoss: 34.443562\n",
            "Train set Average loss: 22.39529498934459\n",
            "Tue Jul 14 13:53:45 2020 Train Epoch: 54 [0/7049 (0%)]\tLoss: 26.407107\n",
            "Tue Jul 14 13:53:50 2020 Train Epoch: 54 [2560/7049 (36%)]\tLoss: 14.759572\n",
            "Tue Jul 14 13:53:54 2020 Train Epoch: 54 [5120/7049 (71%)]\tLoss: 16.685848\n",
            "Train set Average loss: 19.792936047004755\n",
            "Tue Jul 14 13:53:58 2020 Train Epoch: 55 [0/7049 (0%)]\tLoss: 23.598691\n",
            "Tue Jul 14 13:54:02 2020 Train Epoch: 55 [2560/7049 (36%)]\tLoss: 10.616910\n",
            "Tue Jul 14 13:54:07 2020 Train Epoch: 55 [5120/7049 (71%)]\tLoss: 33.414220\n",
            "Train set Average loss: 22.677341138461184\n",
            "Tue Jul 14 13:54:10 2020 Train Epoch: 56 [0/7049 (0%)]\tLoss: 47.146499\n",
            "Tue Jul 14 13:54:15 2020 Train Epoch: 56 [2560/7049 (36%)]\tLoss: 58.393101\n",
            "Tue Jul 14 13:54:19 2020 Train Epoch: 56 [5120/7049 (71%)]\tLoss: 10.670851\n",
            "Train set Average loss: 27.1069937555185\n",
            "Tue Jul 14 13:54:23 2020 Train Epoch: 57 [0/7049 (0%)]\tLoss: 26.290703\n",
            "Tue Jul 14 13:54:27 2020 Train Epoch: 57 [2560/7049 (36%)]\tLoss: 13.088716\n",
            "Tue Jul 14 13:54:32 2020 Train Epoch: 57 [5120/7049 (71%)]\tLoss: 14.242655\n",
            "Train set Average loss: 17.229086417559234\n",
            "Tue Jul 14 13:54:35 2020 Train Epoch: 58 [0/7049 (0%)]\tLoss: 52.328935\n",
            "Tue Jul 14 13:54:40 2020 Train Epoch: 58 [2560/7049 (36%)]\tLoss: 18.224844\n",
            "Tue Jul 14 13:54:44 2020 Train Epoch: 58 [5120/7049 (71%)]\tLoss: 13.048331\n",
            "Train set Average loss: 24.691153248001907\n",
            "Tue Jul 14 13:54:48 2020 Train Epoch: 59 [0/7049 (0%)]\tLoss: 44.184063\n",
            "Tue Jul 14 13:54:52 2020 Train Epoch: 59 [2560/7049 (36%)]\tLoss: 17.462045\n",
            "Tue Jul 14 13:54:57 2020 Train Epoch: 59 [5120/7049 (71%)]\tLoss: 16.073069\n",
            "Train set Average loss: 22.682280040246045\n",
            "Tue Jul 14 13:55:00 2020 Train Epoch: 60 [0/7049 (0%)]\tLoss: 32.725869\n",
            "Tue Jul 14 13:55:05 2020 Train Epoch: 60 [2560/7049 (36%)]\tLoss: 18.885996\n",
            "Tue Jul 14 13:55:09 2020 Train Epoch: 60 [5120/7049 (71%)]\tLoss: 11.410432\n",
            "Train set Average loss: 18.42972362558002\n",
            "Tue Jul 14 13:55:13 2020 Train Epoch: 61 [0/7049 (0%)]\tLoss: 30.692728\n",
            "Tue Jul 14 13:55:17 2020 Train Epoch: 61 [2560/7049 (36%)]\tLoss: 15.255201\n",
            "Tue Jul 14 13:55:22 2020 Train Epoch: 61 [5120/7049 (71%)]\tLoss: 18.282377\n",
            "Train set Average loss: 21.700062066389826\n",
            "Tue Jul 14 13:55:25 2020 Train Epoch: 62 [0/7049 (0%)]\tLoss: 48.703586\n",
            "Tue Jul 14 13:55:30 2020 Train Epoch: 62 [2560/7049 (36%)]\tLoss: 15.596141\n",
            "Tue Jul 14 13:55:34 2020 Train Epoch: 62 [5120/7049 (71%)]\tLoss: 11.596893\n",
            "Train set Average loss: 22.152577181949017\n",
            "Tue Jul 14 13:55:38 2020 Train Epoch: 63 [0/7049 (0%)]\tLoss: 22.543519\n",
            "Tue Jul 14 13:55:42 2020 Train Epoch: 63 [2560/7049 (36%)]\tLoss: 57.923102\n",
            "Tue Jul 14 13:55:47 2020 Train Epoch: 63 [5120/7049 (71%)]\tLoss: 14.155814\n",
            "Train set Average loss: 30.924342544266946\n",
            "Tue Jul 14 13:55:50 2020 Train Epoch: 64 [0/7049 (0%)]\tLoss: 25.315222\n",
            "Tue Jul 14 13:55:55 2020 Train Epoch: 64 [2560/7049 (36%)]\tLoss: 16.313667\n",
            "Tue Jul 14 13:55:59 2020 Train Epoch: 64 [5120/7049 (71%)]\tLoss: 9.596735\n",
            "Train set Average loss: 16.02300383790813\n",
            "Tue Jul 14 13:56:03 2020 Train Epoch: 65 [0/7049 (0%)]\tLoss: 26.523089\n",
            "Tue Jul 14 13:56:07 2020 Train Epoch: 65 [2560/7049 (36%)]\tLoss: 11.530286\n",
            "Tue Jul 14 13:56:12 2020 Train Epoch: 65 [5120/7049 (71%)]\tLoss: 15.911965\n",
            "Train set Average loss: 21.435704599227478\n",
            "Tue Jul 14 13:56:15 2020 Train Epoch: 66 [0/7049 (0%)]\tLoss: 35.579154\n",
            "Tue Jul 14 13:56:20 2020 Train Epoch: 66 [2560/7049 (36%)]\tLoss: 12.130235\n",
            "Tue Jul 14 13:56:24 2020 Train Epoch: 66 [5120/7049 (71%)]\tLoss: 9.955938\n",
            "Train set Average loss: 19.600616586617054\n",
            "Tue Jul 14 13:56:29 2020 Train Epoch: 67 [0/7049 (0%)]\tLoss: 25.672443\n",
            "Tue Jul 14 13:56:33 2020 Train Epoch: 67 [2560/7049 (36%)]\tLoss: 14.016404\n",
            "Tue Jul 14 13:56:38 2020 Train Epoch: 67 [5120/7049 (71%)]\tLoss: 18.804139\n",
            "Train set Average loss: 20.245465037789398\n",
            "Tue Jul 14 13:56:41 2020 Train Epoch: 68 [0/7049 (0%)]\tLoss: 66.677102\n",
            "Tue Jul 14 13:56:46 2020 Train Epoch: 68 [2560/7049 (36%)]\tLoss: 17.980203\n",
            "Tue Jul 14 13:56:50 2020 Train Epoch: 68 [5120/7049 (71%)]\tLoss: 10.576841\n",
            "Train set Average loss: 27.876237708820696\n",
            "Tue Jul 14 13:56:54 2020 Train Epoch: 69 [0/7049 (0%)]\tLoss: 30.346274\n",
            "Tue Jul 14 13:56:58 2020 Train Epoch: 69 [2560/7049 (36%)]\tLoss: 11.450053\n",
            "Tue Jul 14 13:57:03 2020 Train Epoch: 69 [5120/7049 (71%)]\tLoss: 9.630147\n",
            "Train set Average loss: 15.27363616940587\n",
            "Tue Jul 14 13:57:06 2020 Train Epoch: 70 [0/7049 (0%)]\tLoss: 34.032331\n",
            "Tue Jul 14 13:57:11 2020 Train Epoch: 70 [2560/7049 (36%)]\tLoss: 12.620438\n",
            "Tue Jul 14 13:57:15 2020 Train Epoch: 70 [5120/7049 (71%)]\tLoss: 19.205191\n",
            "Train set Average loss: 21.21065157073616\n",
            "Tue Jul 14 13:57:19 2020 Train Epoch: 71 [0/7049 (0%)]\tLoss: 39.857672\n",
            "Tue Jul 14 13:57:23 2020 Train Epoch: 71 [2560/7049 (36%)]\tLoss: 20.894090\n",
            "Tue Jul 14 13:57:28 2020 Train Epoch: 71 [5120/7049 (71%)]\tLoss: 9.490773\n",
            "Train set Average loss: 23.6266535710561\n",
            "Tue Jul 14 13:57:31 2020 Train Epoch: 72 [0/7049 (0%)]\tLoss: 25.302177\n",
            "Tue Jul 14 13:57:36 2020 Train Epoch: 72 [2560/7049 (36%)]\tLoss: 24.691366\n",
            "Tue Jul 14 13:57:40 2020 Train Epoch: 72 [5120/7049 (71%)]\tLoss: 10.871095\n",
            "Train set Average loss: 19.36589434389153\n",
            "Tue Jul 14 13:57:44 2020 Train Epoch: 73 [0/7049 (0%)]\tLoss: 20.402889\n",
            "Tue Jul 14 13:57:48 2020 Train Epoch: 73 [2560/7049 (36%)]\tLoss: 60.933972\n",
            "Tue Jul 14 13:57:53 2020 Train Epoch: 73 [5120/7049 (71%)]\tLoss: 9.627236\n",
            "Train set Average loss: 25.564395256282403\n",
            "Tue Jul 14 13:57:56 2020 Train Epoch: 74 [0/7049 (0%)]\tLoss: 45.839045\n",
            "Tue Jul 14 13:58:01 2020 Train Epoch: 74 [2560/7049 (36%)]\tLoss: 19.579922\n",
            "Tue Jul 14 13:58:05 2020 Train Epoch: 74 [5120/7049 (71%)]\tLoss: 9.240761\n",
            "Train set Average loss: 21.441979271185335\n",
            "Tue Jul 14 13:58:09 2020 Train Epoch: 75 [0/7049 (0%)]\tLoss: 30.498438\n",
            "Tue Jul 14 13:58:13 2020 Train Epoch: 75 [2560/7049 (36%)]\tLoss: 11.091338\n",
            "Tue Jul 14 13:58:18 2020 Train Epoch: 75 [5120/7049 (71%)]\tLoss: 10.392288\n",
            "Train set Average loss: 14.972300300069376\n",
            "Tue Jul 14 13:58:21 2020 Train Epoch: 76 [0/7049 (0%)]\tLoss: 48.723253\n",
            "Tue Jul 14 13:58:26 2020 Train Epoch: 76 [2560/7049 (36%)]\tLoss: 21.232853\n",
            "Tue Jul 14 13:58:30 2020 Train Epoch: 76 [5120/7049 (71%)]\tLoss: 11.432759\n",
            "Train set Average loss: 26.205307454531148\n",
            "Tue Jul 14 13:58:34 2020 Train Epoch: 77 [0/7049 (0%)]\tLoss: 28.833944\n",
            "Tue Jul 14 13:58:38 2020 Train Epoch: 77 [2560/7049 (36%)]\tLoss: 27.591500\n",
            "Tue Jul 14 13:58:43 2020 Train Epoch: 77 [5120/7049 (71%)]\tLoss: 11.807914\n",
            "Train set Average loss: 21.249602775472958\n",
            "Tue Jul 14 13:58:46 2020 Train Epoch: 78 [0/7049 (0%)]\tLoss: 25.503443\n",
            "Tue Jul 14 13:58:51 2020 Train Epoch: 78 [2560/7049 (36%)]\tLoss: 18.994021\n",
            "Tue Jul 14 13:58:55 2020 Train Epoch: 78 [5120/7049 (71%)]\tLoss: 10.757859\n",
            "Train set Average loss: 19.618989447023317\n",
            "Tue Jul 14 13:58:59 2020 Train Epoch: 79 [0/7049 (0%)]\tLoss: 42.116058\n",
            "Tue Jul 14 13:59:03 2020 Train Epoch: 79 [2560/7049 (36%)]\tLoss: 14.410171\n",
            "Tue Jul 14 13:59:08 2020 Train Epoch: 79 [5120/7049 (71%)]\tLoss: 11.568255\n",
            "Train set Average loss: 20.55348022428822\n",
            "Tue Jul 14 13:59:11 2020 Train Epoch: 80 [0/7049 (0%)]\tLoss: 34.445818\n",
            "Tue Jul 14 13:59:16 2020 Train Epoch: 80 [2560/7049 (36%)]\tLoss: 9.889454\n",
            "Tue Jul 14 13:59:20 2020 Train Epoch: 80 [5120/7049 (71%)]\tLoss: 20.062144\n",
            "Train set Average loss: 20.592965848271994\n",
            "Tue Jul 14 13:59:24 2020 Train Epoch: 81 [0/7049 (0%)]\tLoss: 43.401361\n",
            "Tue Jul 14 13:59:28 2020 Train Epoch: 81 [2560/7049 (36%)]\tLoss: 15.470866\n",
            "Tue Jul 14 13:59:33 2020 Train Epoch: 81 [5120/7049 (71%)]\tLoss: 9.143437\n",
            "Train set Average loss: 17.387419406529016\n",
            "Tue Jul 14 13:59:36 2020 Train Epoch: 82 [0/7049 (0%)]\tLoss: 21.118370\n",
            "Tue Jul 14 13:59:41 2020 Train Epoch: 82 [2560/7049 (36%)]\tLoss: 60.763460\n",
            "Tue Jul 14 13:59:45 2020 Train Epoch: 82 [5120/7049 (71%)]\tLoss: 9.355018\n",
            "Train set Average loss: 23.45968801867891\n",
            "Tue Jul 14 13:59:49 2020 Train Epoch: 83 [0/7049 (0%)]\tLoss: 27.165372\n",
            "Tue Jul 14 13:59:53 2020 Train Epoch: 83 [2560/7049 (36%)]\tLoss: 13.997668\n",
            "Tue Jul 14 13:59:58 2020 Train Epoch: 83 [5120/7049 (71%)]\tLoss: 10.751808\n",
            "Train set Average loss: 19.712058088317526\n",
            "Tue Jul 14 14:00:01 2020 Train Epoch: 84 [0/7049 (0%)]\tLoss: 21.460118\n",
            "Tue Jul 14 14:00:06 2020 Train Epoch: 84 [2560/7049 (36%)]\tLoss: 10.886216\n",
            "Tue Jul 14 14:00:10 2020 Train Epoch: 84 [5120/7049 (71%)]\tLoss: 12.640351\n",
            "Train set Average loss: 17.46663230257776\n",
            "Tue Jul 14 14:00:14 2020 Train Epoch: 85 [0/7049 (0%)]\tLoss: 36.096503\n",
            "Tue Jul 14 14:00:18 2020 Train Epoch: 85 [2560/7049 (36%)]\tLoss: 40.433319\n",
            "Tue Jul 14 14:00:23 2020 Train Epoch: 85 [5120/7049 (71%)]\tLoss: 8.427431\n",
            "Train set Average loss: 24.064351534287688\n",
            "Tue Jul 14 14:00:26 2020 Train Epoch: 86 [0/7049 (0%)]\tLoss: 28.439305\n",
            "Tue Jul 14 14:00:31 2020 Train Epoch: 86 [2560/7049 (36%)]\tLoss: 35.813406\n",
            "Tue Jul 14 14:00:35 2020 Train Epoch: 86 [5120/7049 (71%)]\tLoss: 10.368750\n",
            "Train set Average loss: 24.656310681301335\n",
            "Tue Jul 14 14:00:39 2020 Train Epoch: 87 [0/7049 (0%)]\tLoss: 23.432476\n",
            "Tue Jul 14 14:00:43 2020 Train Epoch: 87 [2560/7049 (36%)]\tLoss: 22.292864\n",
            "Tue Jul 14 14:00:48 2020 Train Epoch: 87 [5120/7049 (71%)]\tLoss: 13.447750\n",
            "Train set Average loss: 19.643323537054545\n",
            "Tue Jul 14 14:00:51 2020 Train Epoch: 88 [0/7049 (0%)]\tLoss: 35.075534\n",
            "Tue Jul 14 14:00:56 2020 Train Epoch: 88 [2560/7049 (36%)]\tLoss: 13.949372\n",
            "Tue Jul 14 14:01:00 2020 Train Epoch: 88 [5120/7049 (71%)]\tLoss: 10.687459\n",
            "Train set Average loss: 18.016882688339404\n",
            "Tue Jul 14 14:01:04 2020 Train Epoch: 89 [0/7049 (0%)]\tLoss: 35.189744\n",
            "Tue Jul 14 14:01:10 2020 Train Epoch: 89 [2560/7049 (36%)]\tLoss: 42.736653\n",
            "Tue Jul 14 14:01:14 2020 Train Epoch: 89 [5120/7049 (71%)]\tLoss: 10.691813\n",
            "Train set Average loss: 22.725413651549815\n",
            "Tue Jul 14 14:01:17 2020 Train Epoch: 90 [0/7049 (0%)]\tLoss: 21.856060\n",
            "Tue Jul 14 14:01:22 2020 Train Epoch: 90 [2560/7049 (36%)]\tLoss: 10.353135\n",
            "Tue Jul 14 14:01:27 2020 Train Epoch: 90 [5120/7049 (71%)]\tLoss: 10.519949\n",
            "Train set Average loss: 14.716123310065415\n",
            "Tue Jul 14 14:01:30 2020 Train Epoch: 91 [0/7049 (0%)]\tLoss: 27.439210\n",
            "Tue Jul 14 14:01:34 2020 Train Epoch: 91 [2560/7049 (36%)]\tLoss: 55.613414\n",
            "Tue Jul 14 14:01:39 2020 Train Epoch: 91 [5120/7049 (71%)]\tLoss: 9.834696\n",
            "Train set Average loss: 23.014721332426355\n",
            "Tue Jul 14 14:01:42 2020 Train Epoch: 92 [0/7049 (0%)]\tLoss: 22.069273\n",
            "Tue Jul 14 14:01:47 2020 Train Epoch: 92 [2560/7049 (36%)]\tLoss: 25.254063\n",
            "Tue Jul 14 14:01:52 2020 Train Epoch: 92 [5120/7049 (71%)]\tLoss: 13.843503\n",
            "Train set Average loss: 20.485418865424435\n",
            "Tue Jul 14 14:01:55 2020 Train Epoch: 93 [0/7049 (0%)]\tLoss: 35.361191\n",
            "Tue Jul 14 14:01:59 2020 Train Epoch: 93 [2560/7049 (36%)]\tLoss: 18.840076\n",
            "Tue Jul 14 14:02:04 2020 Train Epoch: 93 [5120/7049 (71%)]\tLoss: 8.549002\n",
            "Train set Average loss: 18.677617027310834\n",
            "Tue Jul 14 14:02:07 2020 Train Epoch: 94 [0/7049 (0%)]\tLoss: 25.529302\n",
            "Tue Jul 14 14:02:12 2020 Train Epoch: 94 [2560/7049 (36%)]\tLoss: 10.027752\n",
            "Tue Jul 14 14:02:16 2020 Train Epoch: 94 [5120/7049 (71%)]\tLoss: 19.521489\n",
            "Train set Average loss: 19.957072383452672\n",
            "Tue Jul 14 14:02:20 2020 Train Epoch: 95 [0/7049 (0%)]\tLoss: 39.980292\n",
            "Tue Jul 14 14:02:24 2020 Train Epoch: 95 [2560/7049 (36%)]\tLoss: 13.152971\n",
            "Tue Jul 14 14:02:29 2020 Train Epoch: 95 [5120/7049 (71%)]\tLoss: 7.332722\n",
            "Train set Average loss: 19.91838552006459\n",
            "Tue Jul 14 14:02:32 2020 Train Epoch: 96 [0/7049 (0%)]\tLoss: 27.852993\n",
            "Tue Jul 14 14:02:37 2020 Train Epoch: 96 [2560/7049 (36%)]\tLoss: 26.095863\n",
            "Tue Jul 14 14:02:41 2020 Train Epoch: 96 [5120/7049 (71%)]\tLoss: 15.283886\n",
            "Train set Average loss: 22.141243216175532\n",
            "Tue Jul 14 14:02:45 2020 Train Epoch: 97 [0/7049 (0%)]\tLoss: 27.706591\n",
            "Tue Jul 14 14:02:49 2020 Train Epoch: 97 [2560/7049 (36%)]\tLoss: 11.065618\n",
            "Tue Jul 14 14:02:54 2020 Train Epoch: 97 [5120/7049 (71%)]\tLoss: 22.506825\n",
            "Train set Average loss: 20.52674491909062\n",
            "Tue Jul 14 14:02:57 2020 Train Epoch: 98 [0/7049 (0%)]\tLoss: 43.537803\n",
            "Tue Jul 14 14:03:02 2020 Train Epoch: 98 [2560/7049 (36%)]\tLoss: 13.770548\n",
            "Tue Jul 14 14:03:06 2020 Train Epoch: 98 [5120/7049 (71%)]\tLoss: 9.268006\n",
            "Train set Average loss: 16.609262921278653\n",
            "Tue Jul 14 14:03:10 2020 Train Epoch: 99 [0/7049 (0%)]\tLoss: 25.090323\n",
            "Tue Jul 14 14:03:14 2020 Train Epoch: 99 [2560/7049 (36%)]\tLoss: 15.168977\n",
            "Tue Jul 14 14:03:19 2020 Train Epoch: 99 [5120/7049 (71%)]\tLoss: 26.596789\n",
            "Train set Average loss: 21.230771074050974\n"
          ],
          "name": "stdout"
        }
      ]
    },
    {
      "cell_type": "code",
      "metadata": {
        "trusted": true,
        "id": "6ZlEPURGvQZQ",
        "colab_type": "code",
        "colab": {}
      },
      "source": [
        "timag = []\n",
        "for i in range(0,1783):\n",
        "    timg = test_data['Image'][i].split(' ')\n",
        "    timg = ['0' if x == '' else x for x in timg]\n",
        "    \n",
        "    timag.append(timg)"
      ],
      "execution_count": 30,
      "outputs": []
    },
    {
      "cell_type": "code",
      "metadata": {
        "trusted": true,
        "id": "YzbhYA0DvQZU",
        "colab_type": "code",
        "colab": {}
      },
      "source": [
        "timage_list = np.array(timag,dtype = 'float')\n",
        "X_test = timage_list.reshape(-1,96,96,1)"
      ],
      "execution_count": 31,
      "outputs": []
    },
    {
      "cell_type": "code",
      "metadata": {
        "trusted": true,
        "id": "2u7ieLfFvQZZ",
        "colab_type": "code",
        "colab": {
          "base_uri": "https://localhost:8080/",
          "height": 268
        },
        "outputId": "1c5a5f06-09ce-4698-c05e-51b9f5cdf9b4"
      },
      "source": [
        "plt.imshow(X_test[2].reshape(96,96),cmap = 'gray')\n",
        "plt.show()"
      ],
      "execution_count": 32,
      "outputs": [
        {
          "output_type": "display_data",
          "data": {
            "image/png": "[encoded data removed]",
            "text/plain": [
              "<Figure size 432x288 with 1 Axes>"
            ]
          },
          "metadata": {
            "tags": [],
            "needs_background": "light"
          }
        }
      ]
    },
    {
      "cell_type": "code",
      "metadata": {
        "trusted": true,
        "id": "t94wKnI2vQZd",
        "colab_type": "code",
        "colab": {}
      },
      "source": [
        "X_test = torch.from_numpy(np.asarray(X_test))\n",
        "test_loader = DataLoader(X_test, batch_size=256)"
      ],
      "execution_count": 33,
      "outputs": []
    },
    {
      "cell_type": "code",
      "metadata": {
        "trusted": true,
        "id": "3Fz_OqhYvQZi",
        "colab_type": "code",
        "colab": {
          "base_uri": "https://localhost:8080/",
          "height": 34
        },
        "outputId": "2146531b-3938-429b-cffa-63e3b30821c1"
      },
      "source": [
        "device"
      ],
      "execution_count": 34,
      "outputs": [
        {
          "output_type": "execute_result",
          "data": {
            "text/plain": [
              "device(type='cuda', index=0)"
            ]
          },
          "metadata": {
            "tags": []
          },
          "execution_count": 34
        }
      ]
    },
    {
      "cell_type": "code",
      "metadata": {
        "trusted": true,
        "id": "LQbF01cnvQZm",
        "colab_type": "code",
        "colab": {}
      },
      "source": [
        "q = []\n",
        "for i ,sample in enumerate(test_loader):\n",
        "    sample = sample.view(-1,1,96,96)\n",
        "    q.append((model(sample.to(device)),sample))  \n",
        "    break\n",
        "    "
      ],
      "execution_count": 36,
      "outputs": []
    },
    {
      "cell_type": "code",
      "metadata": {
        "trusted": true,
        "id": "fa7X_kxovQZy",
        "colab_type": "code",
        "colab": {}
      },
      "source": [
        "points = q[0][0][1].cpu().detach().numpy()\n",
        "image = q[0][1][1].cpu().detach().numpy()"
      ],
      "execution_count": 65,
      "outputs": []
    },
    {
      "cell_type": "code",
      "metadata": {
        "id": "wTPrpfLb0v0q",
        "colab_type": "code",
        "colab": {
          "base_uri": "https://localhost:8080/",
          "height": 34
        },
        "outputId": "c660b090-390d-4c32-dcbd-f9aa3ec4ed89"
      },
      "source": [
        "image.shape, points.shape"
      ],
      "execution_count": 66,
      "outputs": [
        {
          "output_type": "execute_result",
          "data": {
            "text/plain": [
              "((1, 96, 96), (30,))"
            ]
          },
          "metadata": {
            "tags": []
          },
          "execution_count": 66
        }
      ]
    },
    {
      "cell_type": "code",
      "metadata": {
        "id": "4kxf_pc8zM4w",
        "colab_type": "code",
        "colab": {
          "base_uri": "https://localhost:8080/",
          "height": 34
        },
        "outputId": "d97209d0-ebfe-485d-bbea-522c06c74526"
      },
      "source": [
        "image = image.reshape(96,96)\n",
        "image.shape"
      ],
      "execution_count": 67,
      "outputs": [
        {
          "output_type": "execute_result",
          "data": {
            "text/plain": [
              "(96, 96)"
            ]
          },
          "metadata": {
            "tags": []
          },
          "execution_count": 67
        }
      ]
    },
    {
      "cell_type": "code",
      "metadata": {
        "id": "Y912Z5z6zWcx",
        "colab_type": "code",
        "colab": {
          "base_uri": "https://localhost:8080/",
          "height": 285
        },
        "outputId": "14227f60-a5e4-4ad1-e888-dcdccdd19618"
      },
      "source": [
        "plt.imshow(image,cmap='gray')"
      ],
      "execution_count": 68,
      "outputs": [
        {
          "output_type": "execute_result",
          "data": {
            "text/plain": [
              "<matplotlib.image.AxesImage at 0x7efc3fb12940>"
            ]
          },
          "metadata": {
            "tags": []
          },
          "execution_count": 68
        },
        {
          "output_type": "display_data",
          "data": {
            "image/png": "[encoded data removed]",
            "text/plain": [
              "<Figure size 432x288 with 1 Axes>"
            ]
          },
          "metadata": {
            "tags": [],
            "needs_background": "light"
          }
        }
      ]
    },
    {
      "cell_type": "code",
      "metadata": {
        "id": "ZdvYvll0zauS",
        "colab_type": "code",
        "colab": {
          "base_uri": "https://localhost:8080/",
          "height": 268
        },
        "outputId": "42f2ef97-cfb9-47d7-d1da-c0f6a0932a0f"
      },
      "source": [
        "def show_landmarks(image, landmarks):\n",
        "    \"\"\"Show image with landmarks\"\"\"\n",
        "    plt.imshow(image,cmap='gray')\n",
        "    for i in range(29):\n",
        "        plt.scatter(landmarks[i], landmarks[i+1], s=10, marker='.', c='r')\n",
        "        i=i+1\n",
        "    plt.pause(0.001)  # pause a bit so that plots are updated\n",
        "\n",
        "plt.figure()\n",
        "show_landmarks(image,\n",
        "               points)\n",
        "plt.show()"
      ],
      "execution_count": 74,
      "outputs": [
        {
          "output_type": "display_data",
          "data": {
            "image/png": "[encoded data removed]",
            "text/plain": [
              "<Figure size 432x288 with 1 Axes>"
            ]
          },
          "metadata": {
            "tags": [],
            "needs_background": "light"
          }
        }
      ]
    },
    {
      "cell_type": "code",
      "metadata": {
        "id": "zeier5kv0tAA",
        "colab_type": "code",
        "colab": {}
      },
      "source": [
        ""
      ],
      "execution_count": null,
      "outputs": []
    }
  ]
}